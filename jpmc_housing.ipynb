{
  "nbformat": 4,
  "nbformat_minor": 0,
  "metadata": {
    "colab": {
      "name": "jpmc_housing.ipynb",
      "provenance": []
    },
    "kernelspec": {
      "name": "python3",
      "display_name": "Python 3"
    },
    "accelerator": "GPU"
  },
  "cells": [
    {
      "cell_type": "code",
      "metadata": {
        "id": "OcTEQH9y7x6M",
        "colab_type": "code",
        "colab": {}
      },
      "source": [
        "import numpy as np\n",
        "import pandas as pd"
      ],
      "execution_count": 0,
      "outputs": []
    },
    {
      "cell_type": "code",
      "metadata": {
        "id": "NqQKRVt198xU",
        "colab_type": "code",
        "outputId": "50452cc6-3b17-4a54-815c-21cefab514b1",
        "colab": {
          "base_uri": "https://localhost:8080/",
          "height": 34
        }
      },
      "source": [
        "% pwd"
      ],
      "execution_count": 0,
      "outputs": [
        {
          "output_type": "execute_result",
          "data": {
            "text/plain": [
              "'/content'"
            ]
          },
          "metadata": {
            "tags": []
          },
          "execution_count": 3
        }
      ]
    },
    {
      "cell_type": "code",
      "metadata": {
        "id": "ERzpAgx0-jqu",
        "colab_type": "code",
        "outputId": "a2579a22-5c8a-4003-fa46-e2dae708235f",
        "colab": {
          "base_uri": "https://localhost:8080/",
          "height": 34
        }
      },
      "source": [
        "% ls"
      ],
      "execution_count": 0,
      "outputs": [
        {
          "output_type": "stream",
          "text": [
            "housing_test.csv  housing_train.csv  \u001b[0m\u001b[01;34msample_data\u001b[0m/\n"
          ],
          "name": "stdout"
        }
      ]
    },
    {
      "cell_type": "code",
      "metadata": {
        "id": "epIYmSqh-n19",
        "colab_type": "code",
        "colab": {}
      },
      "source": [
        "test = pd.read_csv('https://mettl-arq.s3-ap-southeast-1.amazonaws.com/questions/jp-morgan/housing/housing_test.csv')\n",
        "train = pd.read_csv('https://mettl-arq.s3-ap-southeast-1.amazonaws.com/questions/jp-morgan/housing/housing_train.csv')"
      ],
      "execution_count": 0,
      "outputs": []
    },
    {
      "cell_type": "code",
      "metadata": {
        "id": "TmzCZnRr_YqY",
        "colab_type": "code",
        "outputId": "472aed84-b515-43d2-e2aa-61ebff0f0b6e",
        "colab": {
          "base_uri": "https://localhost:8080/",
          "height": 316
        }
      },
      "source": [
        "train.head()"
      ],
      "execution_count": 4,
      "outputs": [
        {
          "output_type": "execute_result",
          "data": {
            "text/html": [
              "<div>\n",
              "<style scoped>\n",
              "    .dataframe tbody tr th:only-of-type {\n",
              "        vertical-align: middle;\n",
              "    }\n",
              "\n",
              "    .dataframe tbody tr th {\n",
              "        vertical-align: top;\n",
              "    }\n",
              "\n",
              "    .dataframe thead th {\n",
              "        text-align: right;\n",
              "    }\n",
              "</style>\n",
              "<table border=\"1\" class=\"dataframe\">\n",
              "  <thead>\n",
              "    <tr style=\"text-align: right;\">\n",
              "      <th></th>\n",
              "      <th>TID</th>\n",
              "      <th>Date</th>\n",
              "      <th>Property Type</th>\n",
              "      <th>OldvNew</th>\n",
              "      <th>Duration</th>\n",
              "      <th>AddressLine1</th>\n",
              "      <th>AddressLine2</th>\n",
              "      <th>Street</th>\n",
              "      <th>Locality</th>\n",
              "      <th>Town</th>\n",
              "      <th>Taluka</th>\n",
              "      <th>District</th>\n",
              "      <th>Postcode</th>\n",
              "      <th>Price</th>\n",
              "      <th>Price Category</th>\n",
              "    </tr>\n",
              "  </thead>\n",
              "  <tbody>\n",
              "    <tr>\n",
              "      <th>0</th>\n",
              "      <td>1000</td>\n",
              "      <td>2018-01-01</td>\n",
              "      <td>F</td>\n",
              "      <td>N</td>\n",
              "      <td>L</td>\n",
              "      <td>9</td>\n",
              "      <td>NaN</td>\n",
              "      <td>XOUGBXCBUKB NBZX</td>\n",
              "      <td>NaN</td>\n",
              "      <td>ERLSYEL</td>\n",
              "      <td>ERLSYEL</td>\n",
              "      <td>ERLSYELXORKB</td>\n",
              "      <td>EL4 2BO</td>\n",
              "      <td>80.0</td>\n",
              "      <td>B</td>\n",
              "    </tr>\n",
              "    <tr>\n",
              "      <th>1</th>\n",
              "      <td>1001</td>\n",
              "      <td>2018-01-01</td>\n",
              "      <td>T</td>\n",
              "      <td>Y</td>\n",
              "      <td>F</td>\n",
              "      <td>02</td>\n",
              "      <td>NaN</td>\n",
              "      <td>OYYG ZUQ</td>\n",
              "      <td>NaN</td>\n",
              "      <td>NURFXMYLB</td>\n",
              "      <td>NURFXMYLB</td>\n",
              "      <td>GBLM</td>\n",
              "      <td>NB09 6VZ</td>\n",
              "      <td>218.5</td>\n",
              "      <td>A</td>\n",
              "    </tr>\n",
              "    <tr>\n",
              "      <th>2</th>\n",
              "      <td>1002</td>\n",
              "      <td>2018-01-01</td>\n",
              "      <td>D</td>\n",
              "      <td>N</td>\n",
              "      <td>F</td>\n",
              "      <td>32</td>\n",
              "      <td>NaN</td>\n",
              "      <td>XYNBKX CUKG UPBLWB</td>\n",
              "      <td>NaN</td>\n",
              "      <td>NUEPBKL</td>\n",
              "      <td>NUEPBKL OREEX</td>\n",
              "      <td>ZYKSBXMBKXORKB</td>\n",
              "      <td>ZK01 0XF</td>\n",
              "      <td>250.0</td>\n",
              "      <td>A</td>\n",
              "    </tr>\n",
              "    <tr>\n",
              "      <th>3</th>\n",
              "      <td>1003</td>\n",
              "      <td>2018-01-01</td>\n",
              "      <td>O</td>\n",
              "      <td>N</td>\n",
              "      <td>F</td>\n",
              "      <td>0</td>\n",
              "      <td>NaN</td>\n",
              "      <td>OUMOUZUQ SEYXB</td>\n",
              "      <td>NaN</td>\n",
              "      <td>EBRSBXMBK</td>\n",
              "      <td>EBRSBXMBK</td>\n",
              "      <td>EBRSBXMBK</td>\n",
              "      <td>EB1 3HI</td>\n",
              "      <td>6050.0</td>\n",
              "      <td>B</td>\n",
              "    </tr>\n",
              "    <tr>\n",
              "      <th>4</th>\n",
              "      <td>1004</td>\n",
              "      <td>2018-01-01</td>\n",
              "      <td>T</td>\n",
              "      <td>N</td>\n",
              "      <td>F</td>\n",
              "      <td>14</td>\n",
              "      <td>NaN</td>\n",
              "      <td>MBNBKURKB KYUF</td>\n",
              "      <td>NaN</td>\n",
              "      <td>CEQNYWMO</td>\n",
              "      <td>SRMQ YV CEQNYWMO</td>\n",
              "      <td>SRMQ YV CEQNYWMO</td>\n",
              "      <td>CE4 6WU</td>\n",
              "      <td>182.0</td>\n",
              "      <td>A</td>\n",
              "    </tr>\n",
              "  </tbody>\n",
              "</table>\n",
              "</div>"
            ],
            "text/plain": [
              "    TID        Date Property Type  ...  Postcode   Price Price Category\n",
              "0  1000  2018-01-01             F  ...   EL4 2BO    80.0              B\n",
              "1  1001  2018-01-01             T  ...  NB09 6VZ   218.5              A\n",
              "2  1002  2018-01-01             D  ...  ZK01 0XF   250.0              A\n",
              "3  1003  2018-01-01             O  ...   EB1 3HI  6050.0              B\n",
              "4  1004  2018-01-01             T  ...   CE4 6WU   182.0              A\n",
              "\n",
              "[5 rows x 15 columns]"
            ]
          },
          "metadata": {
            "tags": []
          },
          "execution_count": 4
        }
      ]
    },
    {
      "cell_type": "code",
      "metadata": {
        "id": "PGazNiS4_ihM",
        "colab_type": "code",
        "colab": {}
      },
      "source": [
        "train = train.replace(['A', 'B'], [1, 0])\n",
        "train = train.replace(['Y', 'N'], [1, 0])\n",
        "train = train.replace(['L', 'F'], [1, 0])\n",
        "train = train.replace(['D', 'S','T','F','O'], [0,1,2,3,4])"
      ],
      "execution_count": 0,
      "outputs": []
    },
    {
      "cell_type": "code",
      "metadata": {
        "id": "a5ezMGdmAqT5",
        "colab_type": "code",
        "outputId": "e8def399-df41-4fbf-c6ae-947642b44520",
        "colab": {
          "base_uri": "https://localhost:8080/",
          "height": 286
        }
      },
      "source": [
        "train.isnull().sum()"
      ],
      "execution_count": 6,
      "outputs": [
        {
          "output_type": "execute_result",
          "data": {
            "text/plain": [
              "TID                     0\n",
              "Date                    0\n",
              "Property Type           0\n",
              "OldvNew                 0\n",
              "Duration                0\n",
              "AddressLine1            0\n",
              "AddressLine2      1054500\n",
              "Street              22612\n",
              "Locality           760895\n",
              "Town                    0\n",
              "Taluka                  0\n",
              "District                0\n",
              "Postcode             5778\n",
              "Price                   0\n",
              "Price Category          0\n",
              "dtype: int64"
            ]
          },
          "metadata": {
            "tags": []
          },
          "execution_count": 6
        }
      ]
    },
    {
      "cell_type": "code",
      "metadata": {
        "id": "pDF_Gnx5Fnma",
        "colab_type": "code",
        "outputId": "1e2e8362-b229-4045-cffb-9ad6375d8c13",
        "colab": {
          "base_uri": "https://localhost:8080/",
          "height": 269
        }
      },
      "source": [
        "test.isnull().sum()"
      ],
      "execution_count": 7,
      "outputs": [
        {
          "output_type": "execute_result",
          "data": {
            "text/plain": [
              "TID               0\n",
              "Date              0\n",
              "Property Type     0\n",
              "OldvNew           0\n",
              "Duration          0\n",
              "AddressLine1      0\n",
              "AddressLine2      0\n",
              "Street            0\n",
              "Locality          0\n",
              "Town              0\n",
              "Taluka            0\n",
              "District          0\n",
              "Postcode          0\n",
              "Price Category    0\n",
              "dtype: int64"
            ]
          },
          "metadata": {
            "tags": []
          },
          "execution_count": 7
        }
      ]
    },
    {
      "cell_type": "code",
      "metadata": {
        "id": "omXX-QK4BW8t",
        "colab_type": "code",
        "outputId": "6d33c39e-4166-440f-bb38-b278208a495f",
        "colab": {
          "base_uri": "https://localhost:8080/",
          "height": 1000
        }
      },
      "source": [
        "train.groupby('Taluka').size()"
      ],
      "execution_count": 8,
      "outputs": [
        {
          "output_type": "execute_result",
          "data": {
            "text/plain": [
              "Taluka\n",
              "BABMBK                       2745\n",
              "BCCRLJ VYKBXM                2511\n",
              "BCXYN ULF BZBEE              1388\n",
              "BENHKRFJB                    2787\n",
              "BFBL                         1402\n",
              "BKBZUXO                      2566\n",
              "BLVRBEF                      3781\n",
              "BUERLJ                       4211\n",
              "BUXM ERLFXBQ                 3671\n",
              "BUXM FBPYL                   4071\n",
              "BUXM FYKXBM                  1869\n",
              "BUXM KRFRLJ YV QYKGXORKB     9142\n",
              "BUXM LYKMOUNCMYLXORKB        2248\n",
              "BUXM OBKMVYKFXORKB           3373\n",
              "BUXM OUNCXORKB               2892\n",
              "BUXM SUNHKRFJBXORKB          1929\n",
              "BUXM XMUVVYKFXORKB           3062\n",
              "BUXM XWVVYEG                  283\n",
              "BUXMEBRJO                    3309\n",
              "BUXMHYWKLB                   2409\n",
              "CBLFEB                       2055\n",
              "CBNHKYGBXORKB                2956\n",
              "CKBXMYL                      3264\n",
              "CWKHBSG                      1008\n",
              "CYKMXNYWMO                   4372\n",
              "CYYEB                        3590\n",
              "CYZQX                        2684\n",
              "EBBFX                       17171\n",
              "EBRSBXMBK                    4998\n",
              "EBZBX                        2198\n",
              "                            ...  \n",
              "ZBXM FYKXBM                  2459\n",
              "ZBXM HBKGXORKB               3049\n",
              "ZBXM XWVVYEG                  237\n",
              "ZBXM XYNBKXBM                 815\n",
              "ZBXM YAVYKFXORKB             2469\n",
              "ZKBAOUN                      2286\n",
              "ZKBGRL                       3929\n",
              "ZQKB                         2872\n",
              "ZQKB VYKBXM                  2111\n",
              "ZQSOUPYL                     3202\n",
              "ZQSYNHB                      3275\n",
              "ZREMXORKB                   10920\n",
              "ZRJUL                        7495\n",
              "ZRKKUE                       6838\n",
              "ZRLFXYK ULF NURFBLOBUF       2643\n",
              "ZRLSOBXMBK                   2451\n",
              "ZUEMOUN VYKBXM               4065\n",
              "ZUEXUEE                      4603\n",
              "ZUGBVRBEF                    7963\n",
              "ZUKKRLJMYL                   4154\n",
              "ZUKZRSG                      3369\n",
              "ZULFXZYKMO                   6435\n",
              "ZUMVYKF                      1668\n",
              "ZUPBKEBQ                     2624\n",
              "ZUPBLBQ                      2611\n",
              "ZYEPBKOUNCMYL                4155\n",
              "ZYGRLJ                       2135\n",
              "ZYGRLJOUN                    3869\n",
              "ZYKMORLJ                     2806\n",
              "ZYKSBXMBK                    2293\n",
              "Length: 353, dtype: int64"
            ]
          },
          "metadata": {
            "tags": []
          },
          "execution_count": 8
        }
      ]
    },
    {
      "cell_type": "code",
      "metadata": {
        "id": "Pl-tZIwSFjAr",
        "colab_type": "code",
        "outputId": "8a2e0941-7a9e-4393-c8b2-fdc0064c3447",
        "colab": {
          "base_uri": "https://localhost:8080/",
          "height": 1000
        }
      },
      "source": [
        "train.groupby('Town').size()"
      ],
      "execution_count": 9,
      "outputs": [
        {
          "output_type": "execute_result",
          "data": {
            "text/plain": [
              "Town\n",
              "BABMBK               4000\n",
              "BANYWMO               928\n",
              "BCCRLJ                462\n",
              "BCXYN                1424\n",
              "BEEBXNBKB             168\n",
              "BEEBXNBKB CYKM       1402\n",
              "BEEULF                213\n",
              "BEQ                  1557\n",
              "BFBLHKRFJB            267\n",
              "BFJZUKB               580\n",
              "BHHZ PUEB             593\n",
              "BJKBNYLM              160\n",
              "BJOUN                 387\n",
              "BKRMO                 620\n",
              "BLVRBEF              1801\n",
              "BMSORLJOUN             98\n",
              "BNXZYKMO              358\n",
              "BPBXOUN              1181\n",
              "BQB                   222\n",
              "BUXM HYEFYL           125\n",
              "BUXM JKRLXMBUF        817\n",
              "BUXM NYEBXBQ          176\n",
              "BUXM SYZBX            276\n",
              "BUXMEBRJO            1744\n",
              "BUXMHYWKLB           2599\n",
              "BXOBK                 374\n",
              "CBKKULCYKMO           135\n",
              "CBKXOYKB              498\n",
              "CBLIULSB              882\n",
              "CBLKOQLFBWFKUBMO       41\n",
              "                     ... \n",
              "ZUFBHKRFJB            409\n",
              "ZUFOWKXM              188\n",
              "ZUGBVRBEF            3725\n",
              "ZUKB                  791\n",
              "ZUKBOUN               386\n",
              "ZUKERLJOUN            238\n",
              "ZUKKRLJMYL           4613\n",
              "ZUKNRLXMBK            603\n",
              "ZUKZRSG              1647\n",
              "ZULMUJB               650\n",
              "ZUMBKEYYPREEB        1708\n",
              "ZUMERLJMYL             63\n",
              "ZUMSOBM               169\n",
              "ZUMVYKF              2161\n",
              "ZUXORLJMYL            808\n",
              "ZYEPBKOUNCMYL        4786\n",
              "ZYGRLJ               2303\n",
              "ZYGRLJOUN            1502\n",
              "ZYKGRLJMYL            714\n",
              "ZYKGXYC              1461\n",
              "ZYKMORLJ             2986\n",
              "ZYKSBXMBK            3360\n",
              "ZYKSBXMBK CUKG        496\n",
              "ZYMMYL-WLFBK-BFJB     289\n",
              "ZYYEBK                 47\n",
              "ZYYEUSYNHB             88\n",
              "ZYYFHKRFJB           1062\n",
              "ZYYFOUEE XCU          152\n",
              "ZYYFVYKF JKBBL        544\n",
              "ZYYFXMYSG             109\n",
              "Length: 1147, dtype: int64"
            ]
          },
          "metadata": {
            "tags": []
          },
          "execution_count": 9
        }
      ]
    },
    {
      "cell_type": "code",
      "metadata": {
        "id": "-hStgJTTBkvm",
        "colab_type": "code",
        "outputId": "d7d599d6-bcf5-452b-fcf6-617a66197073",
        "colab": {
          "base_uri": "https://localhost:8080/",
          "height": 1000
        }
      },
      "source": [
        "train.groupby('District').size()"
      ],
      "execution_count": 10,
      "outputs": [
        {
          "output_type": "execute_result",
          "data": {
            "text/plain": [
              "District\n",
              "BUXM KRFRLJ YV QYKGXORKB                9142\n",
              "BUXM XWXXBA                            12953\n",
              "BXXBA                                  32299\n",
              "CBNHKYGBXORKB                           2956\n",
              "CYKMXNYWMO                              4372\n",
              "CYYEB                                   3590\n",
              "CYZQX                                   2684\n",
              "EBRSBXMBK                               4998\n",
              "EBRSBXMBKXORKB                         16923\n",
              "ERLSYELXORKB                           18594\n",
              "EULSUXORKB                             28763\n",
              "EWMYL                                   3530\n",
              "FBKHQXORKB                             18866\n",
              "FBLHRJOXORKB                            2094\n",
              "FBPYL                                  20547\n",
              "FUKERLJMYL                              2323\n",
              "FYKXBM                                 10279\n",
              "GBLM                                   34255\n",
              "HBFVYKF                                 3853\n",
              "HEUBLUW JZBLM                           1307\n",
              "HEUSGCYYE                               3521\n",
              "HEUSGHWKL ZRMO FUKZBL                   2617\n",
              "HKRFJBLF                                3254\n",
              "HKRJOMYL ULF OYPB                       5393\n",
              "HKUSGLBEE VYKBXM                        2577\n",
              "HUMO ULF LYKMO BUXM XYNBKXBM            4229\n",
              "HWSGRLJOUNXORKB                        10926\n",
              "HYWKLBNYWMO                             4571\n",
              "HYWKLBNYWMO, SOKRXMSOWKSO ULF CYYEB      519\n",
              "JEYWSBXMBKXORKB                        15669\n",
              "                                       ...  \n",
              "SYLZQ                                   2973\n",
              "SYWLMQ FWKOUN                          11650\n",
              "VERLMXORKB                              3184\n",
              "XEYWJO                                  2123\n",
              "XMUVVYKFXORKB                          19302\n",
              "XMYGB-YL-MKBLM                          5775\n",
              "XMYSGMYL-YL-MBBX                        4467\n",
              "XOKYCXORKB                              7481\n",
              "XWKKBQ                                 23480\n",
              "XWVVYEG                                16670\n",
              "XYNBKXBM                               13419\n",
              "XYWMO JEYWSBXMBKXORKB                   6218\n",
              "XYWMO QYKGXORKB                        27375\n",
              "XYWMOBLF-YL-XBU                         4366\n",
              "XYWMOUNCMYL                             5226\n",
              "XZRLFYL                                 5627\n",
              "XZULXBU                                 4716\n",
              "YAVYKFXORKB                            14205\n",
              "ZBXM HBKGXORKB                          3049\n",
              "ZBXM NRFEULFX                          50026\n",
              "ZBXM QYKGXORKB                         49254\n",
              "ZBXM XWXXBA                            20002\n",
              "ZKBAOUN                                 2286\n",
              "ZKBGRL                                  3929\n",
              "ZREMXORKB                              10920\n",
              "ZRLFXYK ULF NURFBLOBUF                  2643\n",
              "ZUKKRLJMYL                              4154\n",
              "ZUKZRSGXORKB                           14424\n",
              "ZYGRLJOUN                               3869\n",
              "ZYKSBXMBKXORKB                         13656\n",
              "Length: 113, dtype: int64"
            ]
          },
          "metadata": {
            "tags": []
          },
          "execution_count": 10
        }
      ]
    },
    {
      "cell_type": "code",
      "metadata": {
        "id": "fb-fojn8BqQI",
        "colab_type": "code",
        "outputId": "08c23bcf-66f9-428a-8927-cd0715af04f8",
        "colab": {
          "base_uri": "https://localhost:8080/",
          "height": 34
        }
      },
      "source": [
        "pd.isnull(train['Price']).any().nonzero()[0]"
      ],
      "execution_count": 12,
      "outputs": [
        {
          "output_type": "execute_result",
          "data": {
            "text/plain": [
              "array([], dtype=int64)"
            ]
          },
          "metadata": {
            "tags": []
          },
          "execution_count": 12
        }
      ]
    },
    {
      "cell_type": "code",
      "metadata": {
        "id": "3-ANk9q8CiR9",
        "colab_type": "code",
        "outputId": "438a0528-4bae-45d5-9b5f-090493bc0980",
        "colab": {
          "base_uri": "https://localhost:8080/",
          "height": 67
        }
      },
      "source": [
        "null_columns=train.columns[train.isnull().any()]\n",
        "print(train[train[\"Price\"].isnull()][null_columns])"
      ],
      "execution_count": 13,
      "outputs": [
        {
          "output_type": "stream",
          "text": [
            "Empty DataFrame\n",
            "Columns: [AddressLine2, Street, Locality, Postcode]\n",
            "Index: []\n"
          ],
          "name": "stdout"
        }
      ]
    },
    {
      "cell_type": "code",
      "metadata": {
        "id": "j9DYTlsvDIcl",
        "colab_type": "code",
        "outputId": "cc010604-a697-4f43-f801-4b75535f1ae4",
        "colab": {
          "base_uri": "https://localhost:8080/",
          "height": 218
        }
      },
      "source": [
        "print(train[train[\"Price Category\"].isnull()][null_columns])\n",
        "print(train[train[\"Town\"].isnull()][null_columns])\n",
        "print(train[train[\"Taluka\"].isnull()][null_columns])\n",
        "print(train[train[\"District\"].isnull()][null_columns])"
      ],
      "execution_count": 14,
      "outputs": [
        {
          "output_type": "stream",
          "text": [
            "Empty DataFrame\n",
            "Columns: [AddressLine2, Street, Locality, Postcode]\n",
            "Index: []\n",
            "Empty DataFrame\n",
            "Columns: [AddressLine2, Street, Locality, Postcode]\n",
            "Index: []\n",
            "Empty DataFrame\n",
            "Columns: [AddressLine2, Street, Locality, Postcode]\n",
            "Index: []\n",
            "Empty DataFrame\n",
            "Columns: [AddressLine2, Street, Locality, Postcode]\n",
            "Index: []\n"
          ],
          "name": "stdout"
        }
      ]
    },
    {
      "cell_type": "code",
      "metadata": {
        "id": "gjvirACfDjL2",
        "colab_type": "code",
        "colab": {}
      },
      "source": [
        "#train.drop(458451,axis=0,inplace=True)"
      ],
      "execution_count": 0,
      "outputs": []
    },
    {
      "cell_type": "code",
      "metadata": {
        "id": "spbVxnBZEEb6",
        "colab_type": "code",
        "outputId": "a898ba72-8ad2-43e8-c056-0627877ed2e5",
        "colab": {
          "base_uri": "https://localhost:8080/",
          "height": 286
        }
      },
      "source": [
        "train.isnull().sum()"
      ],
      "execution_count": 16,
      "outputs": [
        {
          "output_type": "execute_result",
          "data": {
            "text/plain": [
              "TID                     0\n",
              "Date                    0\n",
              "Property Type           0\n",
              "OldvNew                 0\n",
              "Duration                0\n",
              "AddressLine1            0\n",
              "AddressLine2      1054500\n",
              "Street              22612\n",
              "Locality           760895\n",
              "Town                    0\n",
              "Taluka                  0\n",
              "District                0\n",
              "Postcode             5778\n",
              "Price                   0\n",
              "Price Category          0\n",
              "dtype: int64"
            ]
          },
          "metadata": {
            "tags": []
          },
          "execution_count": 16
        }
      ]
    },
    {
      "cell_type": "code",
      "metadata": {
        "id": "lH47EwLOEXGY",
        "colab_type": "code",
        "outputId": "ff208955-6649-4996-9433-2c28af15d6f1",
        "colab": {
          "base_uri": "https://localhost:8080/",
          "height": 34
        }
      },
      "source": [
        "train.shape"
      ],
      "execution_count": 17,
      "outputs": [
        {
          "output_type": "execute_result",
          "data": {
            "text/plain": [
              "(1219110, 15)"
            ]
          },
          "metadata": {
            "tags": []
          },
          "execution_count": 17
        }
      ]
    },
    {
      "cell_type": "code",
      "metadata": {
        "id": "so1adjjlEcNs",
        "colab_type": "code",
        "colab": {}
      },
      "source": [
        "train = train.astype({'AddressLine1':'category','AddressLine2':'category','Street':'category','Locality':'category','Town':'category','Taluka':'category','District':'category','Postcode':'category'})\n",
        "test = test.astype({'AddressLine1':'category','AddressLine2':'category','Street':'category','Locality':'category','Town':'category','Taluka':'category','District':'category','Postcode':'category'})"
      ],
      "execution_count": 0,
      "outputs": []
    },
    {
      "cell_type": "code",
      "metadata": {
        "id": "CfMQ0YILI_E_",
        "colab_type": "code",
        "outputId": "f895b1a2-0dbf-4c3e-e7bb-c63ded450360",
        "colab": {
          "base_uri": "https://localhost:8080/",
          "height": 286
        }
      },
      "source": [
        "train.dtypes"
      ],
      "execution_count": 19,
      "outputs": [
        {
          "output_type": "execute_result",
          "data": {
            "text/plain": [
              "TID                  int64\n",
              "Date                object\n",
              "Property Type        int64\n",
              "OldvNew              int64\n",
              "Duration             int64\n",
              "AddressLine1      category\n",
              "AddressLine2      category\n",
              "Street            category\n",
              "Locality          category\n",
              "Town              category\n",
              "Taluka            category\n",
              "District          category\n",
              "Postcode          category\n",
              "Price              float64\n",
              "Price Category       int64\n",
              "dtype: object"
            ]
          },
          "metadata": {
            "tags": []
          },
          "execution_count": 19
        }
      ]
    },
    {
      "cell_type": "code",
      "metadata": {
        "id": "M-ptwCDxNV8Q",
        "colab_type": "code",
        "outputId": "4fb81db2-0f48-41ca-835e-5af438878b8e",
        "colab": {
          "base_uri": "https://localhost:8080/",
          "height": 269
        }
      },
      "source": [
        "test.dtypes"
      ],
      "execution_count": 20,
      "outputs": [
        {
          "output_type": "execute_result",
          "data": {
            "text/plain": [
              "TID                  int64\n",
              "Date                object\n",
              "Property Type       object\n",
              "OldvNew             object\n",
              "Duration            object\n",
              "AddressLine1      category\n",
              "AddressLine2      category\n",
              "Street            category\n",
              "Locality          category\n",
              "Town              category\n",
              "Taluka            category\n",
              "District          category\n",
              "Postcode          category\n",
              "Price Category      object\n",
              "dtype: object"
            ]
          },
          "metadata": {
            "tags": []
          },
          "execution_count": 20
        }
      ]
    },
    {
      "cell_type": "code",
      "metadata": {
        "id": "dcsmX-CVJX3P",
        "colab_type": "code",
        "colab": {}
      },
      "source": [
        "train['Month'] = train.apply(lambda row: int(row[1].split(\"-\")[1]), axis = 1)\n",
        "train['Date'] = train.apply(lambda row: int(row[1].split(\"-\")[2]), axis = 1)"
      ],
      "execution_count": 0,
      "outputs": []
    },
    {
      "cell_type": "code",
      "metadata": {
        "id": "CLjIf5ToLL6Z",
        "colab_type": "code",
        "outputId": "4fe476d2-6ee1-4973-bdaf-e130b49e2084",
        "colab": {
          "base_uri": "https://localhost:8080/",
          "height": 316
        }
      },
      "source": [
        "train.head()"
      ],
      "execution_count": 23,
      "outputs": [
        {
          "output_type": "execute_result",
          "data": {
            "text/html": [
              "<div>\n",
              "<style scoped>\n",
              "    .dataframe tbody tr th:only-of-type {\n",
              "        vertical-align: middle;\n",
              "    }\n",
              "\n",
              "    .dataframe tbody tr th {\n",
              "        vertical-align: top;\n",
              "    }\n",
              "\n",
              "    .dataframe thead th {\n",
              "        text-align: right;\n",
              "    }\n",
              "</style>\n",
              "<table border=\"1\" class=\"dataframe\">\n",
              "  <thead>\n",
              "    <tr style=\"text-align: right;\">\n",
              "      <th></th>\n",
              "      <th>TID</th>\n",
              "      <th>Date</th>\n",
              "      <th>Property Type</th>\n",
              "      <th>OldvNew</th>\n",
              "      <th>Duration</th>\n",
              "      <th>AddressLine1</th>\n",
              "      <th>AddressLine2</th>\n",
              "      <th>Street</th>\n",
              "      <th>Locality</th>\n",
              "      <th>Town</th>\n",
              "      <th>Taluka</th>\n",
              "      <th>District</th>\n",
              "      <th>Postcode</th>\n",
              "      <th>Price</th>\n",
              "      <th>Price Category</th>\n",
              "      <th>Month</th>\n",
              "    </tr>\n",
              "  </thead>\n",
              "  <tbody>\n",
              "    <tr>\n",
              "      <th>0</th>\n",
              "      <td>1000</td>\n",
              "      <td>1</td>\n",
              "      <td>0</td>\n",
              "      <td>0</td>\n",
              "      <td>1</td>\n",
              "      <td>9</td>\n",
              "      <td>NaN</td>\n",
              "      <td>XOUGBXCBUKB NBZX</td>\n",
              "      <td>NaN</td>\n",
              "      <td>ERLSYEL</td>\n",
              "      <td>ERLSYEL</td>\n",
              "      <td>ERLSYELXORKB</td>\n",
              "      <td>EL4 2BO</td>\n",
              "      <td>80.0</td>\n",
              "      <td>0</td>\n",
              "      <td>1</td>\n",
              "    </tr>\n",
              "    <tr>\n",
              "      <th>1</th>\n",
              "      <td>1001</td>\n",
              "      <td>1</td>\n",
              "      <td>2</td>\n",
              "      <td>1</td>\n",
              "      <td>0</td>\n",
              "      <td>02</td>\n",
              "      <td>NaN</td>\n",
              "      <td>OYYG ZUQ</td>\n",
              "      <td>NaN</td>\n",
              "      <td>NURFXMYLB</td>\n",
              "      <td>NURFXMYLB</td>\n",
              "      <td>GBLM</td>\n",
              "      <td>NB09 6VZ</td>\n",
              "      <td>218.5</td>\n",
              "      <td>1</td>\n",
              "      <td>1</td>\n",
              "    </tr>\n",
              "    <tr>\n",
              "      <th>2</th>\n",
              "      <td>1002</td>\n",
              "      <td>1</td>\n",
              "      <td>0</td>\n",
              "      <td>0</td>\n",
              "      <td>0</td>\n",
              "      <td>32</td>\n",
              "      <td>NaN</td>\n",
              "      <td>XYNBKX CUKG UPBLWB</td>\n",
              "      <td>NaN</td>\n",
              "      <td>NUEPBKL</td>\n",
              "      <td>NUEPBKL OREEX</td>\n",
              "      <td>ZYKSBXMBKXORKB</td>\n",
              "      <td>ZK01 0XF</td>\n",
              "      <td>250.0</td>\n",
              "      <td>1</td>\n",
              "      <td>1</td>\n",
              "    </tr>\n",
              "    <tr>\n",
              "      <th>3</th>\n",
              "      <td>1003</td>\n",
              "      <td>1</td>\n",
              "      <td>4</td>\n",
              "      <td>0</td>\n",
              "      <td>0</td>\n",
              "      <td>0</td>\n",
              "      <td>NaN</td>\n",
              "      <td>OUMOUZUQ SEYXB</td>\n",
              "      <td>NaN</td>\n",
              "      <td>EBRSBXMBK</td>\n",
              "      <td>EBRSBXMBK</td>\n",
              "      <td>EBRSBXMBK</td>\n",
              "      <td>EB1 3HI</td>\n",
              "      <td>6050.0</td>\n",
              "      <td>0</td>\n",
              "      <td>1</td>\n",
              "    </tr>\n",
              "    <tr>\n",
              "      <th>4</th>\n",
              "      <td>1004</td>\n",
              "      <td>1</td>\n",
              "      <td>2</td>\n",
              "      <td>0</td>\n",
              "      <td>0</td>\n",
              "      <td>14</td>\n",
              "      <td>NaN</td>\n",
              "      <td>MBNBKURKB KYUF</td>\n",
              "      <td>NaN</td>\n",
              "      <td>CEQNYWMO</td>\n",
              "      <td>SRMQ YV CEQNYWMO</td>\n",
              "      <td>SRMQ YV CEQNYWMO</td>\n",
              "      <td>CE4 6WU</td>\n",
              "      <td>182.0</td>\n",
              "      <td>1</td>\n",
              "      <td>1</td>\n",
              "    </tr>\n",
              "  </tbody>\n",
              "</table>\n",
              "</div>"
            ],
            "text/plain": [
              "    TID  Date  Property Type  OldvNew  ...  Postcode   Price Price Category Month\n",
              "0  1000     1              0        0  ...   EL4 2BO    80.0              0     1\n",
              "1  1001     1              2        1  ...  NB09 6VZ   218.5              1     1\n",
              "2  1002     1              0        0  ...  ZK01 0XF   250.0              1     1\n",
              "3  1003     1              4        0  ...   EB1 3HI  6050.0              0     1\n",
              "4  1004     1              2        0  ...   CE4 6WU   182.0              1     1\n",
              "\n",
              "[5 rows x 16 columns]"
            ]
          },
          "metadata": {
            "tags": []
          },
          "execution_count": 23
        }
      ]
    },
    {
      "cell_type": "code",
      "metadata": {
        "id": "r8jftuekLSMi",
        "colab_type": "code",
        "colab": {}
      },
      "source": [
        "test['Month'] = test.apply(lambda row: int(row[1].split(\"-\")[1]), axis = 1)\n",
        "test['Date'] = test.apply(lambda row: int(row[1].split(\"-\")[2]), axis = 1)"
      ],
      "execution_count": 0,
      "outputs": []
    },
    {
      "cell_type": "code",
      "metadata": {
        "id": "4j-DQh3wM8g-",
        "colab_type": "code",
        "colab": {}
      },
      "source": [
        "test = test.replace(['A', 'B'], [1, 0])\n",
        "test = test.replace(['Y', 'N'], [1, 0])\n",
        "test = test.replace(['L', 'F'], [1, 0])\n",
        "test = test.replace(['D', 'S','T','F','O'], [0,1,2,3,4])"
      ],
      "execution_count": 0,
      "outputs": []
    },
    {
      "cell_type": "code",
      "metadata": {
        "id": "vHheS0hNLaz4",
        "colab_type": "code",
        "outputId": "eb99d93f-8c63-4a5c-f4d8-7e3ee1a03d90",
        "colab": {
          "base_uri": "https://localhost:8080/",
          "height": 333
        }
      },
      "source": [
        "test.head()"
      ],
      "execution_count": 26,
      "outputs": [
        {
          "output_type": "execute_result",
          "data": {
            "text/html": [
              "<div>\n",
              "<style scoped>\n",
              "    .dataframe tbody tr th:only-of-type {\n",
              "        vertical-align: middle;\n",
              "    }\n",
              "\n",
              "    .dataframe tbody tr th {\n",
              "        vertical-align: top;\n",
              "    }\n",
              "\n",
              "    .dataframe thead th {\n",
              "        text-align: right;\n",
              "    }\n",
              "</style>\n",
              "<table border=\"1\" class=\"dataframe\">\n",
              "  <thead>\n",
              "    <tr style=\"text-align: right;\">\n",
              "      <th></th>\n",
              "      <th>TID</th>\n",
              "      <th>Date</th>\n",
              "      <th>Property Type</th>\n",
              "      <th>OldvNew</th>\n",
              "      <th>Duration</th>\n",
              "      <th>AddressLine1</th>\n",
              "      <th>AddressLine2</th>\n",
              "      <th>Street</th>\n",
              "      <th>Locality</th>\n",
              "      <th>Town</th>\n",
              "      <th>Taluka</th>\n",
              "      <th>District</th>\n",
              "      <th>Postcode</th>\n",
              "      <th>Price Category</th>\n",
              "      <th>Month</th>\n",
              "    </tr>\n",
              "  </thead>\n",
              "  <tbody>\n",
              "    <tr>\n",
              "      <th>0</th>\n",
              "      <td>1226697</td>\n",
              "      <td>1</td>\n",
              "      <td>0</td>\n",
              "      <td>0</td>\n",
              "      <td>1</td>\n",
              "      <td>UXCEBQ SYWKM</td>\n",
              "      <td>56</td>\n",
              "      <td>ZYHWKL KYUF</td>\n",
              "      <td>ZYHWKL XULFX</td>\n",
              "      <td>NREMYL GBQLBX</td>\n",
              "      <td>SBLMKUE HBFVYKFXORKB</td>\n",
              "      <td>SBLMKUE HBFVYKFXORKB</td>\n",
              "      <td>NG09 2CU</td>\n",
              "      <td>1</td>\n",
              "      <td>4</td>\n",
              "    </tr>\n",
              "    <tr>\n",
              "      <th>1</th>\n",
              "      <td>1226784</td>\n",
              "      <td>1</td>\n",
              "      <td>1</td>\n",
              "      <td>0</td>\n",
              "      <td>0</td>\n",
              "      <td>XOYMVYKF</td>\n",
              "      <td>0</td>\n",
              "      <td>XBEXBQ KYUF</td>\n",
              "      <td>XRFEBXOUN</td>\n",
              "      <td>SORSOBXMBK</td>\n",
              "      <td>SORSOBXMBK</td>\n",
              "      <td>ZBXM XWXXBA</td>\n",
              "      <td>CY57 9KF</td>\n",
              "      <td>1</td>\n",
              "      <td>4</td>\n",
              "    </tr>\n",
              "    <tr>\n",
              "      <th>2</th>\n",
              "      <td>1226816</td>\n",
              "      <td>1</td>\n",
              "      <td>0</td>\n",
              "      <td>0</td>\n",
              "      <td>1</td>\n",
              "      <td>JKUSBZBEE SYWKM, 0457</td>\n",
              "      <td>UCUKMNBLM 56</td>\n",
              "      <td>XMKUMVYKF KYUF</td>\n",
              "      <td>OUEE JKBBL</td>\n",
              "      <td>HRKNRLJOUN</td>\n",
              "      <td>HRKNRLJOUN</td>\n",
              "      <td>ZBXM NRFEULFX</td>\n",
              "      <td>H52 8BM</td>\n",
              "      <td>1</td>\n",
              "      <td>4</td>\n",
              "    </tr>\n",
              "    <tr>\n",
              "      <th>3</th>\n",
              "      <td>1226838</td>\n",
              "      <td>1</td>\n",
              "      <td>0</td>\n",
              "      <td>1</td>\n",
              "      <td>1</td>\n",
              "      <td>MOB SOYSYEUMB DWUKMBK</td>\n",
              "      <td>51 KRPBK OYWXB</td>\n",
              "      <td>MKUTBSMWX ZUQ</td>\n",
              "      <td>GBQLXOUN</td>\n",
              "      <td>HKRXMYE</td>\n",
              "      <td>HUMO ULF LYKMO BUXM XYNBKXBM</td>\n",
              "      <td>HUMO ULF LYKMO BUXM XYNBKXBM</td>\n",
              "      <td>HX60 5JJ</td>\n",
              "      <td>1</td>\n",
              "      <td>4</td>\n",
              "    </tr>\n",
              "    <tr>\n",
              "      <th>4</th>\n",
              "      <td>1226845</td>\n",
              "      <td>1</td>\n",
              "      <td>0</td>\n",
              "      <td>0</td>\n",
              "      <td>1</td>\n",
              "      <td>NUGBCBUSB NULXRYLX</td>\n",
              "      <td>VEUM 500</td>\n",
              "      <td>NUGBCBUSB UPBLWB</td>\n",
              "      <td>ORJOJUMB</td>\n",
              "      <td>EYLFYL</td>\n",
              "      <td>SUNFBL</td>\n",
              "      <td>JKBUMBK EYLFYL</td>\n",
              "      <td>L3 3BM</td>\n",
              "      <td>1</td>\n",
              "      <td>4</td>\n",
              "    </tr>\n",
              "  </tbody>\n",
              "</table>\n",
              "</div>"
            ],
            "text/plain": [
              "       TID  Date  Property Type  ...  Postcode  Price Category Month\n",
              "0  1226697     1              0  ...  NG09 2CU               1     4\n",
              "1  1226784     1              1  ...  CY57 9KF               1     4\n",
              "2  1226816     1              0  ...   H52 8BM               1     4\n",
              "3  1226838     1              0  ...  HX60 5JJ               1     4\n",
              "4  1226845     1              0  ...    L3 3BM               1     4\n",
              "\n",
              "[5 rows x 15 columns]"
            ]
          },
          "metadata": {
            "tags": []
          },
          "execution_count": 26
        }
      ]
    },
    {
      "cell_type": "code",
      "metadata": {
        "id": "opT1X2vZOaiE",
        "colab_type": "code",
        "outputId": "741c8a4e-4aa2-4b97-c448-a50c809b63d7",
        "colab": {
          "base_uri": "https://localhost:8080/",
          "height": 1000
        }
      },
      "source": [
        "train.groupby('Locality').size()"
      ],
      "execution_count": 27,
      "outputs": [
        {
          "output_type": "execute_result",
          "data": {
            "text/plain": [
              "Locality\n",
              "BABEHQ                             7\n",
              "BABHKRFJB                          4\n",
              "BABMBK HWXRLBXX CUKG               2\n",
              "BABMBK KYUF RLFWXMKRUE BXMUMB      5\n",
              "BABMBK URKCYKM                     2\n",
              "BAHWKQ                             3\n",
              "BAHYWKLB                           7\n",
              "BALRLJ                            51\n",
              "BAMYL                             24\n",
              "BANRLXMBK                         97\n",
              "BAOUEE                            95\n",
              "BAVYKF                             8\n",
              "BCCBKXMYLB                         8\n",
              "BCCEBHQ                            7\n",
              "BCCRLJ JKBBL                      11\n",
              "BCCRLJ WCEULF                      1\n",
              "BCXYN FYZLX                        8\n",
              "BCZBEE                             2\n",
              "BCZYKMO                          115\n",
              "BEBRJOZUMBK                        2\n",
              "BEEBE                              3\n",
              "BEEBKFRLB                          7\n",
              "BEEBKGBK                           8\n",
              "BEEBKHBSG                          2\n",
              "BEEBKHQ                            1\n",
              "BEEBKMYL                           8\n",
              "BEEBLHYKYWJO                      10\n",
              "BEEBLX JKBBL                       2\n",
              "BEEBXHYKYWJO                       1\n",
              "BEERLJMYL                         49\n",
              "                                ... \n",
              "ZYYFVYKF OUEXB                   137\n",
              "ZYYFX JKBBL                        2\n",
              "ZYYFXBMMX                         27\n",
              "ZYYFXBMMYL                        31\n",
              "ZYYFXBUPBX                        26\n",
              "ZYYFXCBBL                          1\n",
              "ZYYFXMYL                          50\n",
              "ZYYFXMYLB PREEUJB                 10\n",
              "ZYYFXMYSG                          1\n",
              "ZYYFXRFB                          45\n",
              "ZYYFXRFB BXMUMB                    1\n",
              "ZYYFXRFB CUKG                      5\n",
              "ZYYFZUEMYL                         5\n",
              "ZYYGBQ                            16\n",
              "ZYYGBQ OYEB                       17\n",
              "ZYYHWKL JKBBL                    105\n",
              "ZYYHWKL MYZL                       2\n",
              "ZYYHWKL NYYK                       7\n",
              "ZYYHWKL RLFWXMKRUE CUKG            1\n",
              "ZYYKB                             35\n",
              "ZYYLMYL                            5\n",
              "ZYYMMYL                          559\n",
              "ZYYMMYL HKRFJB                   106\n",
              "ZYYMMYL KRPBKX                     6\n",
              "ZYYMMYL SYWKMBLUQ                  5\n",
              "ZYYMMYL VRMICURLB                  4\n",
              "ZYYMMYL XM EUZKBLSB                1\n",
              "ZYYMMYL ZUZBL                     17\n",
              "ZYYVVBKMYL                         1\n",
              "ZYYXBOREE                          5\n",
              "Length: 17225, dtype: int64"
            ]
          },
          "metadata": {
            "tags": []
          },
          "execution_count": 27
        }
      ]
    },
    {
      "cell_type": "code",
      "metadata": {
        "id": "GwCxSf08QLrf",
        "colab_type": "code",
        "colab": {}
      },
      "source": [
        "train_x = train.drop(['AddressLine1','AddressLine2','Street','Postcode'],axis=1)\n",
        "test_x = test.drop(['AddressLine1','AddressLine2','Street','Postcode'],axis=1)"
      ],
      "execution_count": 0,
      "outputs": []
    },
    {
      "cell_type": "code",
      "metadata": {
        "id": "cS0m0TwDRDvV",
        "colab_type": "code",
        "outputId": "7aac191f-1ea4-4b6e-b6a2-75f2317af515",
        "colab": {
          "base_uri": "https://localhost:8080/",
          "height": 229
        }
      },
      "source": [
        "train_x.head()"
      ],
      "execution_count": 29,
      "outputs": [
        {
          "output_type": "execute_result",
          "data": {
            "text/html": [
              "<div>\n",
              "<style scoped>\n",
              "    .dataframe tbody tr th:only-of-type {\n",
              "        vertical-align: middle;\n",
              "    }\n",
              "\n",
              "    .dataframe tbody tr th {\n",
              "        vertical-align: top;\n",
              "    }\n",
              "\n",
              "    .dataframe thead th {\n",
              "        text-align: right;\n",
              "    }\n",
              "</style>\n",
              "<table border=\"1\" class=\"dataframe\">\n",
              "  <thead>\n",
              "    <tr style=\"text-align: right;\">\n",
              "      <th></th>\n",
              "      <th>TID</th>\n",
              "      <th>Date</th>\n",
              "      <th>Property Type</th>\n",
              "      <th>OldvNew</th>\n",
              "      <th>Duration</th>\n",
              "      <th>Locality</th>\n",
              "      <th>Town</th>\n",
              "      <th>Taluka</th>\n",
              "      <th>District</th>\n",
              "      <th>Price</th>\n",
              "      <th>Price Category</th>\n",
              "      <th>Month</th>\n",
              "    </tr>\n",
              "  </thead>\n",
              "  <tbody>\n",
              "    <tr>\n",
              "      <th>0</th>\n",
              "      <td>1000</td>\n",
              "      <td>1</td>\n",
              "      <td>0</td>\n",
              "      <td>0</td>\n",
              "      <td>1</td>\n",
              "      <td>NaN</td>\n",
              "      <td>ERLSYEL</td>\n",
              "      <td>ERLSYEL</td>\n",
              "      <td>ERLSYELXORKB</td>\n",
              "      <td>80.0</td>\n",
              "      <td>0</td>\n",
              "      <td>1</td>\n",
              "    </tr>\n",
              "    <tr>\n",
              "      <th>1</th>\n",
              "      <td>1001</td>\n",
              "      <td>1</td>\n",
              "      <td>2</td>\n",
              "      <td>1</td>\n",
              "      <td>0</td>\n",
              "      <td>NaN</td>\n",
              "      <td>NURFXMYLB</td>\n",
              "      <td>NURFXMYLB</td>\n",
              "      <td>GBLM</td>\n",
              "      <td>218.5</td>\n",
              "      <td>1</td>\n",
              "      <td>1</td>\n",
              "    </tr>\n",
              "    <tr>\n",
              "      <th>2</th>\n",
              "      <td>1002</td>\n",
              "      <td>1</td>\n",
              "      <td>0</td>\n",
              "      <td>0</td>\n",
              "      <td>0</td>\n",
              "      <td>NaN</td>\n",
              "      <td>NUEPBKL</td>\n",
              "      <td>NUEPBKL OREEX</td>\n",
              "      <td>ZYKSBXMBKXORKB</td>\n",
              "      <td>250.0</td>\n",
              "      <td>1</td>\n",
              "      <td>1</td>\n",
              "    </tr>\n",
              "    <tr>\n",
              "      <th>3</th>\n",
              "      <td>1003</td>\n",
              "      <td>1</td>\n",
              "      <td>4</td>\n",
              "      <td>0</td>\n",
              "      <td>0</td>\n",
              "      <td>NaN</td>\n",
              "      <td>EBRSBXMBK</td>\n",
              "      <td>EBRSBXMBK</td>\n",
              "      <td>EBRSBXMBK</td>\n",
              "      <td>6050.0</td>\n",
              "      <td>0</td>\n",
              "      <td>1</td>\n",
              "    </tr>\n",
              "    <tr>\n",
              "      <th>4</th>\n",
              "      <td>1004</td>\n",
              "      <td>1</td>\n",
              "      <td>2</td>\n",
              "      <td>0</td>\n",
              "      <td>0</td>\n",
              "      <td>NaN</td>\n",
              "      <td>CEQNYWMO</td>\n",
              "      <td>SRMQ YV CEQNYWMO</td>\n",
              "      <td>SRMQ YV CEQNYWMO</td>\n",
              "      <td>182.0</td>\n",
              "      <td>1</td>\n",
              "      <td>1</td>\n",
              "    </tr>\n",
              "  </tbody>\n",
              "</table>\n",
              "</div>"
            ],
            "text/plain": [
              "    TID  Date  Property Type  ...   Price  Price Category Month\n",
              "0  1000     1              0  ...    80.0               0     1\n",
              "1  1001     1              2  ...   218.5               1     1\n",
              "2  1002     1              0  ...   250.0               1     1\n",
              "3  1003     1              4  ...  6050.0               0     1\n",
              "4  1004     1              2  ...   182.0               1     1\n",
              "\n",
              "[5 rows x 12 columns]"
            ]
          },
          "metadata": {
            "tags": []
          },
          "execution_count": 29
        }
      ]
    },
    {
      "cell_type": "code",
      "metadata": {
        "id": "82Aa-yu8RPmR",
        "colab_type": "code",
        "colab": {}
      },
      "source": [
        "locality = train_x['Locality']"
      ],
      "execution_count": 0,
      "outputs": []
    },
    {
      "cell_type": "code",
      "metadata": {
        "id": "dpSlO6tiR99i",
        "colab_type": "code",
        "colab": {}
      },
      "source": [
        "train_x_nloc = train_x.drop(['Locality'],axis=1) #no locality details"
      ],
      "execution_count": 0,
      "outputs": []
    },
    {
      "cell_type": "code",
      "metadata": {
        "id": "rqa8r0F6S9sT",
        "colab_type": "code",
        "colab": {}
      },
      "source": [
        "train_y_nloc = train_x_nloc['Price']"
      ],
      "execution_count": 0,
      "outputs": []
    },
    {
      "cell_type": "code",
      "metadata": {
        "id": "plwqmF42W48U",
        "colab_type": "code",
        "colab": {}
      },
      "source": [
        "train_x_nloc = train_x_nloc.drop(['Price'],axis=1)"
      ],
      "execution_count": 0,
      "outputs": []
    },
    {
      "cell_type": "code",
      "metadata": {
        "id": "AAX9O1hUSfvk",
        "colab_type": "code",
        "colab": {}
      },
      "source": [
        "train_x=train_x.dropna()"
      ],
      "execution_count": 0,
      "outputs": []
    },
    {
      "cell_type": "code",
      "metadata": {
        "id": "oA9YzCl3TG3r",
        "colab_type": "code",
        "colab": {}
      },
      "source": [
        "train_y = train_x['Price'] #no locality info"
      ],
      "execution_count": 0,
      "outputs": []
    },
    {
      "cell_type": "code",
      "metadata": {
        "id": "UX4_EhPNTSUZ",
        "colab_type": "code",
        "colab": {}
      },
      "source": [
        "train_x = train_x.drop(['Price'],axis=1)"
      ],
      "execution_count": 0,
      "outputs": []
    },
    {
      "cell_type": "code",
      "metadata": {
        "id": "NCOkAqZBTX5H",
        "colab_type": "code",
        "outputId": "d377476d-2dee-4f0a-d646-959ead12679d",
        "colab": {
          "base_uri": "https://localhost:8080/",
          "height": 262
        }
      },
      "source": [
        "train_x.head()"
      ],
      "execution_count": 37,
      "outputs": [
        {
          "output_type": "execute_result",
          "data": {
            "text/html": [
              "<div>\n",
              "<style scoped>\n",
              "    .dataframe tbody tr th:only-of-type {\n",
              "        vertical-align: middle;\n",
              "    }\n",
              "\n",
              "    .dataframe tbody tr th {\n",
              "        vertical-align: top;\n",
              "    }\n",
              "\n",
              "    .dataframe thead th {\n",
              "        text-align: right;\n",
              "    }\n",
              "</style>\n",
              "<table border=\"1\" class=\"dataframe\">\n",
              "  <thead>\n",
              "    <tr style=\"text-align: right;\">\n",
              "      <th></th>\n",
              "      <th>TID</th>\n",
              "      <th>Date</th>\n",
              "      <th>Property Type</th>\n",
              "      <th>OldvNew</th>\n",
              "      <th>Duration</th>\n",
              "      <th>Locality</th>\n",
              "      <th>Town</th>\n",
              "      <th>Taluka</th>\n",
              "      <th>District</th>\n",
              "      <th>Price Category</th>\n",
              "      <th>Month</th>\n",
              "    </tr>\n",
              "  </thead>\n",
              "  <tbody>\n",
              "    <tr>\n",
              "      <th>5</th>\n",
              "      <td>1005</td>\n",
              "      <td>1</td>\n",
              "      <td>4</td>\n",
              "      <td>0</td>\n",
              "      <td>1</td>\n",
              "      <td>SOULFEBK'X VYKF</td>\n",
              "      <td>BUXMEBRJO</td>\n",
              "      <td>BUXMEBRJO</td>\n",
              "      <td>OUNCXORKB</td>\n",
              "      <td>0</td>\n",
              "      <td>1</td>\n",
              "    </tr>\n",
              "    <tr>\n",
              "      <th>6</th>\n",
              "      <td>1006</td>\n",
              "      <td>1</td>\n",
              "      <td>2</td>\n",
              "      <td>0</td>\n",
              "      <td>0</td>\n",
              "      <td>GRLJXZYYF</td>\n",
              "      <td>OWEE</td>\n",
              "      <td>SRMQ YV GRLJXMYL WCYL OWEE</td>\n",
              "      <td>SRMQ YV GRLJXMYL WCYL OWEE</td>\n",
              "      <td>1</td>\n",
              "      <td>1</td>\n",
              "    </tr>\n",
              "    <tr>\n",
              "      <th>10</th>\n",
              "      <td>1010</td>\n",
              "      <td>1</td>\n",
              "      <td>1</td>\n",
              "      <td>0</td>\n",
              "      <td>0</td>\n",
              "      <td>LUQEULF</td>\n",
              "      <td>SYESOBXMBK</td>\n",
              "      <td>HUHBKJO</td>\n",
              "      <td>XWVVYEG</td>\n",
              "      <td>1</td>\n",
              "      <td>1</td>\n",
              "    </tr>\n",
              "    <tr>\n",
              "      <th>15</th>\n",
              "      <td>1015</td>\n",
              "      <td>1</td>\n",
              "      <td>4</td>\n",
              "      <td>0</td>\n",
              "      <td>1</td>\n",
              "      <td>HBMMZX</td>\n",
              "      <td>LBZCYKM</td>\n",
              "      <td>LBZCYKM</td>\n",
              "      <td>LBZCYKM</td>\n",
              "      <td>0</td>\n",
              "      <td>1</td>\n",
              "    </tr>\n",
              "    <tr>\n",
              "      <th>16</th>\n",
              "      <td>1016</td>\n",
              "      <td>1</td>\n",
              "      <td>0</td>\n",
              "      <td>0</td>\n",
              "      <td>1</td>\n",
              "      <td>KUNXHYMMYN</td>\n",
              "      <td>HWKQ</td>\n",
              "      <td>HWKQ</td>\n",
              "      <td>JKBUMBK NULSOBXMBK</td>\n",
              "      <td>1</td>\n",
              "      <td>1</td>\n",
              "    </tr>\n",
              "  </tbody>\n",
              "</table>\n",
              "</div>"
            ],
            "text/plain": [
              "     TID  Date  ...  Price Category  Month\n",
              "5   1005     1  ...               0      1\n",
              "6   1006     1  ...               1      1\n",
              "10  1010     1  ...               1      1\n",
              "15  1015     1  ...               0      1\n",
              "16  1016     1  ...               1      1\n",
              "\n",
              "[5 rows x 11 columns]"
            ]
          },
          "metadata": {
            "tags": []
          },
          "execution_count": 37
        }
      ]
    },
    {
      "cell_type": "code",
      "metadata": {
        "id": "4yIWIFVNTaEz",
        "colab_type": "code",
        "outputId": "d517ced9-dadd-4659-c7ec-da3f63078578",
        "colab": {
          "base_uri": "https://localhost:8080/",
          "height": 34
        }
      },
      "source": [
        "train_x.shape"
      ],
      "execution_count": 38,
      "outputs": [
        {
          "output_type": "execute_result",
          "data": {
            "text/plain": [
              "(458215, 11)"
            ]
          },
          "metadata": {
            "tags": []
          },
          "execution_count": 38
        }
      ]
    },
    {
      "cell_type": "code",
      "metadata": {
        "id": "155wAuiGVwVn",
        "colab_type": "code",
        "outputId": "a332990e-e769-454c-88fa-9fece7620b1f",
        "colab": {
          "base_uri": "https://localhost:8080/",
          "height": 218
        }
      },
      "source": [
        "train_x.dtypes"
      ],
      "execution_count": 39,
      "outputs": [
        {
          "output_type": "execute_result",
          "data": {
            "text/plain": [
              "TID                  int64\n",
              "Date                 int64\n",
              "Property Type        int64\n",
              "OldvNew              int64\n",
              "Duration             int64\n",
              "Locality          category\n",
              "Town              category\n",
              "Taluka            category\n",
              "District          category\n",
              "Price Category       int64\n",
              "Month                int64\n",
              "dtype: object"
            ]
          },
          "metadata": {
            "tags": []
          },
          "execution_count": 39
        }
      ]
    },
    {
      "cell_type": "code",
      "metadata": {
        "id": "8OqcVj-SXiAF",
        "colab_type": "code",
        "outputId": "72048fa4-b510-44e4-9712-87efc6d9470a",
        "colab": {
          "base_uri": "https://localhost:8080/",
          "height": 1000
        }
      },
      "source": [
        "train_x.groupby('Locality').size()"
      ],
      "execution_count": 41,
      "outputs": [
        {
          "output_type": "execute_result",
          "data": {
            "text/plain": [
              "Locality\n",
              "BABEHQ                             7\n",
              "BABHKRFJB                          4\n",
              "BABMBK HWXRLBXX CUKG               2\n",
              "BABMBK KYUF RLFWXMKRUE BXMUMB      5\n",
              "BABMBK URKCYKM                     2\n",
              "BAHWKQ                             3\n",
              "BAHYWKLB                           7\n",
              "BALRLJ                            51\n",
              "BAMYL                             24\n",
              "BANRLXMBK                         97\n",
              "BAOUEE                            95\n",
              "BAVYKF                             8\n",
              "BCCBKXMYLB                         8\n",
              "BCCEBHQ                            7\n",
              "BCCRLJ JKBBL                      11\n",
              "BCCRLJ WCEULF                      1\n",
              "BCXYN FYZLX                        8\n",
              "BCZBEE                             2\n",
              "BCZYKMO                          115\n",
              "BEBRJOZUMBK                        2\n",
              "BEEBE                              3\n",
              "BEEBKFRLB                          7\n",
              "BEEBKGBK                           8\n",
              "BEEBKHBSG                          2\n",
              "BEEBKHQ                            1\n",
              "BEEBKMYL                           8\n",
              "BEEBLHYKYWJO                      10\n",
              "BEEBLX JKBBL                       2\n",
              "BEEBXHYKYWJO                       1\n",
              "BEERLJMYL                         49\n",
              "                                ... \n",
              "ZYYFVYKF OUEXB                   137\n",
              "ZYYFX JKBBL                        2\n",
              "ZYYFXBMMX                         27\n",
              "ZYYFXBMMYL                        31\n",
              "ZYYFXBUPBX                        26\n",
              "ZYYFXCBBL                          1\n",
              "ZYYFXMYL                          50\n",
              "ZYYFXMYLB PREEUJB                 10\n",
              "ZYYFXMYSG                          1\n",
              "ZYYFXRFB                          45\n",
              "ZYYFXRFB BXMUMB                    1\n",
              "ZYYFXRFB CUKG                      5\n",
              "ZYYFZUEMYL                         5\n",
              "ZYYGBQ                            16\n",
              "ZYYGBQ OYEB                       17\n",
              "ZYYHWKL JKBBL                    105\n",
              "ZYYHWKL MYZL                       2\n",
              "ZYYHWKL NYYK                       7\n",
              "ZYYHWKL RLFWXMKRUE CUKG            1\n",
              "ZYYKB                             35\n",
              "ZYYLMYL                            5\n",
              "ZYYMMYL                          559\n",
              "ZYYMMYL HKRFJB                   106\n",
              "ZYYMMYL KRPBKX                     6\n",
              "ZYYMMYL SYWKMBLUQ                  5\n",
              "ZYYMMYL VRMICURLB                  4\n",
              "ZYYMMYL XM EUZKBLSB                1\n",
              "ZYYMMYL ZUZBL                     17\n",
              "ZYYVVBKMYL                         1\n",
              "ZYYXBOREE                          5\n",
              "Length: 17225, dtype: int64"
            ]
          },
          "metadata": {
            "tags": []
          },
          "execution_count": 41
        }
      ]
    },
    {
      "cell_type": "code",
      "metadata": {
        "id": "DpurTOqehS2m",
        "colab_type": "code",
        "outputId": "de333d69-70b1-4da0-8e25-055ce0b13e32",
        "colab": {
          "base_uri": "https://localhost:8080/",
          "height": 246
        }
      },
      "source": [
        "test_x.head()"
      ],
      "execution_count": 42,
      "outputs": [
        {
          "output_type": "execute_result",
          "data": {
            "text/html": [
              "<div>\n",
              "<style scoped>\n",
              "    .dataframe tbody tr th:only-of-type {\n",
              "        vertical-align: middle;\n",
              "    }\n",
              "\n",
              "    .dataframe tbody tr th {\n",
              "        vertical-align: top;\n",
              "    }\n",
              "\n",
              "    .dataframe thead th {\n",
              "        text-align: right;\n",
              "    }\n",
              "</style>\n",
              "<table border=\"1\" class=\"dataframe\">\n",
              "  <thead>\n",
              "    <tr style=\"text-align: right;\">\n",
              "      <th></th>\n",
              "      <th>TID</th>\n",
              "      <th>Date</th>\n",
              "      <th>Property Type</th>\n",
              "      <th>OldvNew</th>\n",
              "      <th>Duration</th>\n",
              "      <th>Locality</th>\n",
              "      <th>Town</th>\n",
              "      <th>Taluka</th>\n",
              "      <th>District</th>\n",
              "      <th>Price Category</th>\n",
              "      <th>Month</th>\n",
              "    </tr>\n",
              "  </thead>\n",
              "  <tbody>\n",
              "    <tr>\n",
              "      <th>0</th>\n",
              "      <td>1226697</td>\n",
              "      <td>1</td>\n",
              "      <td>0</td>\n",
              "      <td>0</td>\n",
              "      <td>1</td>\n",
              "      <td>ZYHWKL XULFX</td>\n",
              "      <td>NREMYL GBQLBX</td>\n",
              "      <td>SBLMKUE HBFVYKFXORKB</td>\n",
              "      <td>SBLMKUE HBFVYKFXORKB</td>\n",
              "      <td>1</td>\n",
              "      <td>4</td>\n",
              "    </tr>\n",
              "    <tr>\n",
              "      <th>1</th>\n",
              "      <td>1226784</td>\n",
              "      <td>1</td>\n",
              "      <td>1</td>\n",
              "      <td>0</td>\n",
              "      <td>0</td>\n",
              "      <td>XRFEBXOUN</td>\n",
              "      <td>SORSOBXMBK</td>\n",
              "      <td>SORSOBXMBK</td>\n",
              "      <td>ZBXM XWXXBA</td>\n",
              "      <td>1</td>\n",
              "      <td>4</td>\n",
              "    </tr>\n",
              "    <tr>\n",
              "      <th>2</th>\n",
              "      <td>1226816</td>\n",
              "      <td>1</td>\n",
              "      <td>0</td>\n",
              "      <td>0</td>\n",
              "      <td>1</td>\n",
              "      <td>OUEE JKBBL</td>\n",
              "      <td>HRKNRLJOUN</td>\n",
              "      <td>HRKNRLJOUN</td>\n",
              "      <td>ZBXM NRFEULFX</td>\n",
              "      <td>1</td>\n",
              "      <td>4</td>\n",
              "    </tr>\n",
              "    <tr>\n",
              "      <th>3</th>\n",
              "      <td>1226838</td>\n",
              "      <td>1</td>\n",
              "      <td>0</td>\n",
              "      <td>1</td>\n",
              "      <td>1</td>\n",
              "      <td>GBQLXOUN</td>\n",
              "      <td>HKRXMYE</td>\n",
              "      <td>HUMO ULF LYKMO BUXM XYNBKXBM</td>\n",
              "      <td>HUMO ULF LYKMO BUXM XYNBKXBM</td>\n",
              "      <td>1</td>\n",
              "      <td>4</td>\n",
              "    </tr>\n",
              "    <tr>\n",
              "      <th>4</th>\n",
              "      <td>1226845</td>\n",
              "      <td>1</td>\n",
              "      <td>0</td>\n",
              "      <td>0</td>\n",
              "      <td>1</td>\n",
              "      <td>ORJOJUMB</td>\n",
              "      <td>EYLFYL</td>\n",
              "      <td>SUNFBL</td>\n",
              "      <td>JKBUMBK EYLFYL</td>\n",
              "      <td>1</td>\n",
              "      <td>4</td>\n",
              "    </tr>\n",
              "  </tbody>\n",
              "</table>\n",
              "</div>"
            ],
            "text/plain": [
              "       TID  Date  ...  Price Category  Month\n",
              "0  1226697     1  ...               1      4\n",
              "1  1226784     1  ...               1      4\n",
              "2  1226816     1  ...               1      4\n",
              "3  1226838     1  ...               1      4\n",
              "4  1226845     1  ...               1      4\n",
              "\n",
              "[5 rows x 11 columns]"
            ]
          },
          "metadata": {
            "tags": []
          },
          "execution_count": 42
        }
      ]
    },
    {
      "cell_type": "code",
      "metadata": {
        "id": "LS5iuHioZZE6",
        "colab_type": "code",
        "colab": {}
      },
      "source": [
        "train_x = train_x.drop(['TID'],axis=1)\n",
        "test_x = test_x.drop(['TID'],axis=1)"
      ],
      "execution_count": 0,
      "outputs": []
    },
    {
      "cell_type": "code",
      "metadata": {
        "id": "5zz_6ZjqX6eT",
        "colab_type": "code",
        "colab": {}
      },
      "source": [
        "train_x['Locality'] = train_x.apply(lambda row: str(row[4].split(\" \")[0]), axis = 1)"
      ],
      "execution_count": 0,
      "outputs": []
    },
    {
      "cell_type": "code",
      "metadata": {
        "id": "lPlxh-HRhWsN",
        "colab_type": "code",
        "colab": {}
      },
      "source": [
        "test_x['Locality'] = test_x.apply(lambda row: str(row[4].split(\" \")[0]), axis = 1)"
      ],
      "execution_count": 0,
      "outputs": []
    },
    {
      "cell_type": "code",
      "metadata": {
        "id": "oIc1XSxoggL2",
        "colab_type": "code",
        "colab": {}
      },
      "source": [
        "test_x = test_x.astype({'Locality':'category'})"
      ],
      "execution_count": 0,
      "outputs": []
    },
    {
      "cell_type": "code",
      "metadata": {
        "id": "MWGNVbtXc5sX",
        "colab_type": "code",
        "colab": {}
      },
      "source": [
        "train_x = train_x.astype({'Locality':'category'})"
      ],
      "execution_count": 0,
      "outputs": []
    },
    {
      "cell_type": "code",
      "metadata": {
        "id": "4QCoXCfAdfoa",
        "colab_type": "code",
        "colab": {}
      },
      "source": [
        "cat_columns = train_x.select_dtypes(['category']).columns"
      ],
      "execution_count": 0,
      "outputs": []
    },
    {
      "cell_type": "code",
      "metadata": {
        "id": "s5OHjLnWdj9u",
        "colab_type": "code",
        "colab": {}
      },
      "source": [
        "train_x[cat_columns] = train_x[cat_columns].apply(lambda x: x.cat.codes)"
      ],
      "execution_count": 0,
      "outputs": []
    },
    {
      "cell_type": "code",
      "metadata": {
        "id": "Ya4uCcudhrOd",
        "colab_type": "code",
        "colab": {}
      },
      "source": [
        "cat_columns_test = test_x.select_dtypes(['category']).columns\n",
        "test_x[cat_columns_test] = test_x[cat_columns_test].apply(lambda x: x.cat.codes)"
      ],
      "execution_count": 0,
      "outputs": []
    },
    {
      "cell_type": "code",
      "metadata": {
        "id": "vo-emCtIgbrn",
        "colab_type": "code",
        "outputId": "cead6c7e-f056-4051-9b7a-6e9c58cb7abf",
        "colab": {
          "base_uri": "https://localhost:8080/",
          "height": 202
        }
      },
      "source": [
        "test_x.dtypes"
      ],
      "execution_count": 51,
      "outputs": [
        {
          "output_type": "execute_result",
          "data": {
            "text/plain": [
              "Date              int64\n",
              "Property Type     int64\n",
              "OldvNew           int64\n",
              "Duration          int64\n",
              "Locality          int16\n",
              "Town              int16\n",
              "Taluka            int16\n",
              "District           int8\n",
              "Price Category    int64\n",
              "Month             int64\n",
              "dtype: object"
            ]
          },
          "metadata": {
            "tags": []
          },
          "execution_count": 51
        }
      ]
    },
    {
      "cell_type": "code",
      "metadata": {
        "id": "4TBqLM_jjBZ3",
        "colab_type": "code",
        "outputId": "180360c6-7e7f-4bd5-968d-f198f6ceb84c",
        "colab": {
          "base_uri": "https://localhost:8080/",
          "height": 34
        }
      },
      "source": [
        "test_x.shape"
      ],
      "execution_count": 52,
      "outputs": [
        {
          "output_type": "execute_result",
          "data": {
            "text/plain": [
              "(2066, 10)"
            ]
          },
          "metadata": {
            "tags": []
          },
          "execution_count": 52
        }
      ]
    },
    {
      "cell_type": "code",
      "metadata": {
        "id": "j2z62A3jTyY0",
        "colab_type": "code",
        "colab": {}
      },
      "source": [
        "from sklearn.ensemble import GradientBoostingRegressor"
      ],
      "execution_count": 0,
      "outputs": []
    },
    {
      "cell_type": "code",
      "metadata": {
        "id": "My4e2FBHUBBj",
        "colab_type": "code",
        "outputId": "71ba4abf-4d6a-491a-c4e5-3f18b28ce563",
        "colab": {
          "base_uri": "https://localhost:8080/",
          "height": 168
        }
      },
      "source": [
        "grb_model = GradientBoostingRegressor(n_estimators=100, max_depth=8)\n",
        "grb_model.fit(train_x[:458215], train_y[:458215])"
      ],
      "execution_count": 54,
      "outputs": [
        {
          "output_type": "execute_result",
          "data": {
            "text/plain": [
              "GradientBoostingRegressor(alpha=0.9, criterion='friedman_mse', init=None,\n",
              "                          learning_rate=0.1, loss='ls', max_depth=8,\n",
              "                          max_features=None, max_leaf_nodes=None,\n",
              "                          min_impurity_decrease=0.0, min_impurity_split=None,\n",
              "                          min_samples_leaf=1, min_samples_split=2,\n",
              "                          min_weight_fraction_leaf=0.0, n_estimators=100,\n",
              "                          n_iter_no_change=None, presort='auto',\n",
              "                          random_state=None, subsample=1.0, tol=0.0001,\n",
              "                          validation_fraction=0.1, verbose=0, warm_start=False)"
            ]
          },
          "metadata": {
            "tags": []
          },
          "execution_count": 54
        }
      ]
    },
    {
      "cell_type": "code",
      "metadata": {
        "id": "OconOXcMVhXX",
        "colab_type": "code",
        "colab": {}
      },
      "source": [
        "grb_pred = grb_model.predict(test_x)"
      ],
      "execution_count": 0,
      "outputs": []
    },
    {
      "cell_type": "code",
      "metadata": {
        "id": "rpkgvTKGfqVe",
        "colab_type": "code",
        "outputId": "2708840b-8884-4660-c0bd-e9c57523fb17",
        "colab": {
          "base_uri": "https://localhost:8080/",
          "height": 50
        }
      },
      "source": [
        "print(grb_pred[:10])"
      ],
      "execution_count": 56,
      "outputs": [
        {
          "output_type": "stream",
          "text": [
            "[190.61021357 281.44736073 128.67578882 208.67064882 255.05321806\n",
            " 485.44587348 194.40608096 401.88334817 378.92508537 344.82676112]\n"
          ],
          "name": "stdout"
        }
      ]
    },
    {
      "cell_type": "code",
      "metadata": {
        "id": "4U02QyFKkN6L",
        "colab_type": "code",
        "colab": {}
      },
      "source": [
        "grb_pred = pd.DataFrame(grb_pred)\n",
        "grb_pred.columns = ['Price']"
      ],
      "execution_count": 0,
      "outputs": []
    },
    {
      "cell_type": "code",
      "metadata": {
        "id": "nJt4zzTkkTG_",
        "colab_type": "code",
        "outputId": "2a907e84-136b-4c5c-fd7d-56885fcd183e",
        "colab": {
          "base_uri": "https://localhost:8080/",
          "height": 195
        }
      },
      "source": [
        "grb_pred.head()"
      ],
      "execution_count": 58,
      "outputs": [
        {
          "output_type": "execute_result",
          "data": {
            "text/html": [
              "<div>\n",
              "<style scoped>\n",
              "    .dataframe tbody tr th:only-of-type {\n",
              "        vertical-align: middle;\n",
              "    }\n",
              "\n",
              "    .dataframe tbody tr th {\n",
              "        vertical-align: top;\n",
              "    }\n",
              "\n",
              "    .dataframe thead th {\n",
              "        text-align: right;\n",
              "    }\n",
              "</style>\n",
              "<table border=\"1\" class=\"dataframe\">\n",
              "  <thead>\n",
              "    <tr style=\"text-align: right;\">\n",
              "      <th></th>\n",
              "      <th>Price</th>\n",
              "    </tr>\n",
              "  </thead>\n",
              "  <tbody>\n",
              "    <tr>\n",
              "      <th>0</th>\n",
              "      <td>190.610214</td>\n",
              "    </tr>\n",
              "    <tr>\n",
              "      <th>1</th>\n",
              "      <td>281.447361</td>\n",
              "    </tr>\n",
              "    <tr>\n",
              "      <th>2</th>\n",
              "      <td>128.675789</td>\n",
              "    </tr>\n",
              "    <tr>\n",
              "      <th>3</th>\n",
              "      <td>208.670649</td>\n",
              "    </tr>\n",
              "    <tr>\n",
              "      <th>4</th>\n",
              "      <td>255.053218</td>\n",
              "    </tr>\n",
              "  </tbody>\n",
              "</table>\n",
              "</div>"
            ],
            "text/plain": [
              "        Price\n",
              "0  190.610214\n",
              "1  281.447361\n",
              "2  128.675789\n",
              "3  208.670649\n",
              "4  255.053218"
            ]
          },
          "metadata": {
            "tags": []
          },
          "execution_count": 58
        }
      ]
    },
    {
      "cell_type": "code",
      "metadata": {
        "id": "autPjmxvi6kl",
        "colab_type": "code",
        "colab": {}
      },
      "source": [
        "grb_pred.to_csv('grb_pred.csv') #if u want keep header=False,index = False"
      ],
      "execution_count": 0,
      "outputs": []
    }
  ]
}